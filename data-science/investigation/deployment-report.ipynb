{
 "cells": [
  {
   "cell_type": "code",
   "execution_count": 1,
   "id": "eb14a3c6-127e-474e-96fc-16afba786bef",
   "metadata": {},
   "outputs": [
    {
     "name": "stdout",
     "output_type": "stream",
     "text": [
      "Requirement already satisfied: psycopg2-binary in /opt/conda/lib/python3.9/site-packages (2.9.3)\n",
      "Requirement already satisfied: matplotlib in /opt/conda/lib/python3.9/site-packages (3.5.2)\n",
      "Requirement already satisfied: kiwisolver>=1.0.1 in /opt/conda/lib/python3.9/site-packages (from matplotlib) (1.4.3)\n",
      "Requirement already satisfied: pyparsing>=2.2.1 in /opt/conda/lib/python3.9/site-packages (from matplotlib) (3.0.8)\n",
      "Requirement already satisfied: python-dateutil>=2.7 in /opt/conda/lib/python3.9/site-packages (from matplotlib) (2.8.2)\n",
      "Requirement already satisfied: fonttools>=4.22.0 in /opt/conda/lib/python3.9/site-packages (from matplotlib) (4.33.3)\n",
      "Requirement already satisfied: pillow>=6.2.0 in /opt/conda/lib/python3.9/site-packages (from matplotlib) (9.1.1)\n",
      "Requirement already satisfied: cycler>=0.10 in /opt/conda/lib/python3.9/site-packages (from matplotlib) (0.11.0)\n",
      "Requirement already satisfied: numpy>=1.17 in /opt/conda/lib/python3.9/site-packages (from matplotlib) (1.23.0)\n",
      "Requirement already satisfied: packaging>=20.0 in /opt/conda/lib/python3.9/site-packages (from matplotlib) (21.3)\n",
      "Requirement already satisfied: six>=1.5 in /opt/conda/lib/python3.9/site-packages (from python-dateutil>=2.7->matplotlib) (1.16.0)\n",
      "Requirement already satisfied: scipy in /opt/conda/lib/python3.9/site-packages (1.8.1)\n",
      "Requirement already satisfied: numpy<1.25.0,>=1.17.3 in /opt/conda/lib/python3.9/site-packages (from scipy) (1.23.0)\n",
      "Requirement already satisfied: pandas in /opt/conda/lib/python3.9/site-packages (1.4.3)\n",
      "Requirement already satisfied: python-dateutil>=2.8.1 in /opt/conda/lib/python3.9/site-packages (from pandas) (2.8.2)\n",
      "Requirement already satisfied: pytz>=2020.1 in /opt/conda/lib/python3.9/site-packages (from pandas) (2022.1)\n",
      "Requirement already satisfied: numpy>=1.18.5 in /opt/conda/lib/python3.9/site-packages (from pandas) (1.23.0)\n",
      "Requirement already satisfied: six>=1.5 in /opt/conda/lib/python3.9/site-packages (from python-dateutil>=2.8.1->pandas) (1.16.0)\n",
      "Requirement already satisfied: sklearn in /opt/conda/lib/python3.9/site-packages (0.0)\n",
      "Requirement already satisfied: scikit-learn in /opt/conda/lib/python3.9/site-packages (from sklearn) (1.1.1)\n",
      "Requirement already satisfied: joblib>=1.0.0 in /opt/conda/lib/python3.9/site-packages (from scikit-learn->sklearn) (1.1.0)\n",
      "Requirement already satisfied: scipy>=1.3.2 in /opt/conda/lib/python3.9/site-packages (from scikit-learn->sklearn) (1.8.1)\n",
      "Requirement already satisfied: threadpoolctl>=2.0.0 in /opt/conda/lib/python3.9/site-packages (from scikit-learn->sklearn) (3.1.0)\n",
      "Requirement already satisfied: numpy>=1.17.3 in /opt/conda/lib/python3.9/site-packages (from scikit-learn->sklearn) (1.23.0)\n",
      "Connected to postgres\n"
     ]
    }
   ],
   "source": [
    "!pip install psycopg2-binary\n",
    "!pip install matplotlib\n",
    "!pip install scipy\n",
    "!pip install pandas\n",
    "!pip install sklearn\n",
    "\n",
    "import psycopg2\n",
    "import pandas as pd\n",
    "import matplotlib.pyplot as plt\n",
    "\n",
    "conn = psycopg2.connect(\n",
    "    host=\"postgres\",\n",
    "    database=\"metrics\",\n",
    "    user=\"postgres\",\n",
    "    password=\"metrics_pass\")\n",
    "print(\"Connected to postgres\")\n",
    "\n",
    "#getting all itens\n",
    "cur = conn.cursor()\n"
   ]
  },
  {
   "cell_type": "code",
   "execution_count": 2,
   "id": "c742d0e6-d10e-4a59-8ab2-050437bf3014",
   "metadata": {},
   "outputs": [],
   "source": [
    "cluster = \"main-cluster\"\n",
    "namespace = \"social-network\"\n",
    "deployment_name = \"user-service\""
   ]
  },
  {
   "cell_type": "code",
   "execution_count": 3,
   "id": "6846872b-3d79-4aa4-8401-092d71775a1b",
   "metadata": {},
   "outputs": [],
   "source": [
    "#get the node metrics\n",
    "cur.execute(\"SELECT * from public.deployments where name = '\" + deployment_name + \"' and namespace = '\" + namespace + \"' and cluster = '\" + cluster + \"'\")\n",
    "deployments = cur.fetchall()\n",
    "\n",
    "#convert the deploy to dict\n",
    "deploys = []\n",
    "allmetrics = []\n",
    "for deploy in deployments:\n",
    "    deployValue = {\n",
    "        \"id\": deploy[0],\n",
    "        \"nome\": deploy[1],\n",
    "        \"namespace\": deploy[2],\n",
    "        \"cluster\": deploy[3],\n",
    "        \"replicas\": deploy[4],\n",
    "        \"minCpu\": deploy[5],\n",
    "        \"maxCpu\": deploy[6],\n",
    "        \"mimMemory\": deploy[7],\n",
    "        \"maxMemory\": deploy[8]\n",
    "    }\n",
    "    #get pods\n",
    "    cur.execute(\"SELECT * from public.pods where deployment_id =\" + str(deployValue[\"id\"]))\n",
    "    podsDb = cur.fetchall()\n",
    "\n",
    "    #convert pods to dict\n",
    "    pods = []\n",
    "    podsIds = []\n",
    "    for pod in podsDb:\n",
    "        podValue = {\n",
    "            \"id\": pod[0],\n",
    "            \"deploymentId\": pod[1],\n",
    "            \"name\": pod[2],\n",
    "            \"nodeId\": pod[3]\n",
    "        }\n",
    "        pods.append(podValue)\n",
    "        podsIds.append(podValue[\"id\"])\n",
    "    \n",
    "    #getting pods metrics\n",
    "    cur.execute('SELECT * from public.pods_metrics where pod_id in ' + str(podsIds).replace(\"[\", \"(\").replace(\"]\", \")\"))\n",
    "    podsMetricsDb = cur.fetchall()\n",
    "    #convert pods metricas to dict\n",
    "    for podMetrics in podsMetricsDb:\n",
    "        podMetricsValue = {\n",
    "            \"id\": podMetrics[0],\n",
    "            \"pod_id\": podMetrics[1],\n",
    "            \"coleta_raw\": podMetrics[2],\n",
    "            \"coleta\": podMetrics[2].strftime(\"%m/%d/%Y, %H:%M\"),\n",
    "            \"coleta_hora\": podMetrics[2].strftime(\"%H\"),\n",
    "            \"cpu\": podMetrics[3],\n",
    "            \"men\": podMetrics[4]\n",
    "        }\n",
    "        allmetrics.append(podMetricsValue)\n",
    "        \n",
    "    deployValue[\"pods\"] = pods\n",
    "    deploys.append(deployValue)"
   ]
  },
  {
   "cell_type": "code",
   "execution_count": 4,
   "id": "1294c2d3-a361-48a1-abf5-92b5b96e73ef",
   "metadata": {},
   "outputs": [
    {
     "name": "stdout",
     "output_type": "stream",
     "text": [
      "Cpu usage by hour\n"
     ]
    },
    {
     "data": {
      "image/png": "[encoded data removed]",
      "text/plain": [
       "<Figure size 432x288 with 1 Axes>"
      ]
     },
     "metadata": {
      "needs_background": "light"
     },
     "output_type": "display_data"
    }
   ],
   "source": [
    "print(\"Cpu usage by hour\")\n",
    "cpus = []\n",
    "for i in range(24):\n",
    "    cpus.append([])\n",
    "    \n",
    "for metrica in allmetrics:\n",
    "    cpus[int(metrica[\"coleta_hora\"])].append(metrica[\"cpu\"])\n",
    "    \n",
    "x=range(24)\n",
    "y=[]\n",
    "for i in range(24):\n",
    "    y.append(sum(cpus[i]) / len(cpus[i]))\n",
    "    \n",
    "plt.bar(x,y)\n",
    "plt.show()\n",
    "\n"
   ]
  },
  {
   "cell_type": "code",
   "execution_count": 5,
   "id": "fdce5b29-c20f-4d9e-b6a4-c33df650aed1",
   "metadata": {},
   "outputs": [
    {
     "name": "stdout",
     "output_type": "stream",
     "text": [
      "Cpu usage histogram\n"
     ]
    },
    {
     "data": {
      "text/plain": [
       "Text(0, 0.5, 'Cpu Power')"
      ]
     },
     "execution_count": 5,
     "metadata": {},
     "output_type": "execute_result"
    },
    {
     "data": {
      "image/png": "[encoded data removed]",
      "text/plain": [
       "<Figure size 2160x720 with 1 Axes>"
      ]
     },
     "metadata": {
      "needs_background": "light"
     },
     "output_type": "display_data"
    }
   ],
   "source": [
    "import math\n",
    "print(\"Cpu usage histogram\")\n",
    "cpu_usages = []\n",
    "\n",
    "for metrica in allmetrics:\n",
    "    cpu_usages.append(metrica[\"cpu\"])\n",
    "\n",
    "# the histogram of the data\n",
    "\n",
    "\n",
    "# Generate data on commute times.\n",
    "commutes = pd.Series(cpu_usages)\n",
    "\n",
    "commutes.plot.hist(grid=False, bins=20, rwidth=0.9,\n",
    "                   color='#607c8e', figsize=(30, 10))\n",
    "plt.title('Commute Times for 1,000 Commuters')\n",
    "plt.xlabel('Counts')\n",
    "plt.ylabel('Cpu Power')\n"
   ]
  },
  {
   "cell_type": "code",
   "execution_count": 6,
   "id": "490af966-c2de-4d10-947b-52e59eb86af1",
   "metadata": {},
   "outputs": [
    {
     "name": "stdout",
     "output_type": "stream",
     "text": [
      "Get high usage cpu pods\n",
      "Pod offenders\n",
      "Cpu offenders\n"
     ]
    }
   ],
   "source": [
    "print(\"Get high usage cpu pods\")\n",
    "cpusDic = {}\n",
    "\n",
    "    \n",
    "for metrica in allmetrics:\n",
    "    if(metrica[\"coleta\"] in cpusDic):\n",
    "        cpusDic[metrica[\"coleta\"]][\"cpus\"].append(metrica[\"cpu\"])\n",
    "        cpusDic[metrica[\"coleta\"]][\"pods\"] += 1\n",
    "    else:\n",
    "        cpusDic[metrica[\"coleta\"]] = {\n",
    "            \"cpus\" : [metrica[\"cpu\"]],\n",
    "            \"pods\": 1,\n",
    "            \"hora\": metrica[\"coleta_hora\"],\n",
    "            \"coleta\": metrica[\"coleta\"]\n",
    "        }\n",
    "        \n",
    "cpus = []\n",
    "for i in range(24):\n",
    "    cpus.append([])\n",
    "\n",
    "offenders = []\n",
    "print(\"Pod offenders\")\n",
    "for key in cpusDic:\n",
    "    if(len(cpusDic[key][\"cpus\"]) > 20):\n",
    "        print(cpusDic[key])\n",
    "    for cpu in cpusDic[key][\"cpus\"]:\n",
    "        if(cpu >= 2000):\n",
    "            offenders.append(cpusDic[key])\n",
    "            break\n",
    "print(\"Cpu offenders\")            \n",
    "for offender in offenders:    \n",
    "    print(offender)\n",
    "    "
   ]
  },
  {
   "cell_type": "code",
   "execution_count": 7,
   "id": "7793e933-e977-42f5-9928-b882f60fc66b",
   "metadata": {},
   "outputs": [
    {
     "name": "stdout",
     "output_type": "stream",
     "text": [
      "Deviation: \n",
      "Mean: 255.18729581156953\n"
     ]
    },
    {
     "data": {
      "image/png": "[encoded data removed]",
      "text/plain": [
       "<Figure size 432x288 with 1 Axes>"
      ]
     },
     "metadata": {
      "needs_background": "light"
     },
     "output_type": "display_data"
    }
   ],
   "source": [
    "import statistics\n",
    "import numpy as np\n",
    "from scipy.stats import norm\n",
    "\n",
    "cpuMetrics = [] \n",
    "for metric in allmetrics:\n",
    "    cpuMetrics.append(metric[\"cpu\"])\n",
    "avg = sum(cpuMetrics)/len(cpuMetrics)\n",
    "maxcpu = max(cpuMetrics)\n",
    "\n",
    "print(\"Deviation: \" + str())\n",
    "print(\"Mean: \" + str(avg))\n",
    "\n",
    "x_axis = np.arange(0, maxcpu*1.1, 1)\n",
    "\n",
    "plt.plot(x_axis, norm.pdf(x_axis, avg, statistics.stdev(cpuMetrics)))\n",
    "plt.show()"
   ]
  },
  {
   "cell_type": "code",
   "execution_count": 8,
   "id": "1bd5c347-bf10-40c1-b295-09fb108ffadb",
   "metadata": {},
   "outputs": [
    {
     "name": "stdout",
     "output_type": "stream",
     "text": [
      "Calculate cpu oever propabolity\n",
      "cpu:500\n",
      "prop:0.9209057363464765\n",
      "cpu:625.0\n",
      "prop:0.9209057363464765\n"
     ]
    }
   ],
   "source": [
    "print(\"Calculate cpu oever propabolity\")\n",
    "from scipy.stats import norm\n",
    "prob = 0\n",
    "cpu = 0\n",
    "while prob < 0.8:\n",
    "    cpu += 100 \n",
    "    prob = norm(avg, statistics.stdev(cpuMetrics)).cdf(cpu)\n",
    "print(\"cpu:\" + str(cpu))\n",
    "print(\"prop:\" + str(prob))\n",
    "cpu_recomendation = cpu\n",
    "print(\"cpu:\" + str(cpu*100/80))\n",
    "print(\"prop:\" + str(prob))"
   ]
  },
  {
   "cell_type": "code",
   "execution_count": 9,
   "id": "ef21b38b-02ab-4ae5-b25a-18961cece0bd",
   "metadata": {},
   "outputs": [
    {
     "name": "stdout",
     "output_type": "stream",
     "text": [
      "Deploy calculations\n"
     ]
    }
   ],
   "source": [
    "print(\"Deploy calculations\")"
   ]
  },
  {
   "cell_type": "code",
   "execution_count": 10,
   "id": "3f12a2e2-d5d3-418d-b714-49877272991d",
   "metadata": {},
   "outputs": [
    {
     "name": "stdout",
     "output_type": "stream",
     "text": [
      "Mean deploy Cpu usage by hour\n"
     ]
    },
    {
     "data": {
      "image/png": "[encoded data removed]",
      "text/plain": [
       "<Figure size 432x288 with 1 Axes>"
      ]
     },
     "metadata": {
      "needs_background": "light"
     },
     "output_type": "display_data"
    }
   ],
   "source": [
    "print(\"Mean deploy Cpu usage by hour\")\n",
    "cpusDic = {}\n",
    "\n",
    "    \n",
    "for metrica in allmetrics:\n",
    "    if(metrica[\"coleta\"] in cpusDic):\n",
    "        cpusDic[metrica[\"coleta\"]][\"cpus\"].append(metrica[\"cpu\"])\n",
    "        cpusDic[metrica[\"coleta\"]][\"pods\"] += 1\n",
    "    else:\n",
    "        cpusDic[metrica[\"coleta\"]] = {\n",
    "            \"cpus\" : [metrica[\"cpu\"]],\n",
    "            \"pods\": 1,\n",
    "            \"hora\": metrica[\"coleta_hora\"]\n",
    "        }\n",
    "        \n",
    "cpus = []\n",
    "for i in range(24):\n",
    "    cpus.append([])\n",
    "    \n",
    "for key in cpusDic:\n",
    "    cpus[int(cpusDic[key][\"hora\"])].append(sum(cpusDic[key][\"cpus\"]))\n",
    "    \n",
    "x=range(24)\n",
    "y=[]\n",
    "for i in range(24):\n",
    "    y.append(sum(cpus[i]) / len(cpus[i]))\n",
    "    \n",
    "plt.bar(x,y)\n",
    "plt.show()"
   ]
  },
  {
   "cell_type": "code",
   "execution_count": 11,
   "id": "1587b75e-84a5-4e42-a520-bb388c67b360",
   "metadata": {},
   "outputs": [
    {
     "name": "stdout",
     "output_type": "stream",
     "text": [
      "Mean deploy pods by hour\n"
     ]
    },
    {
     "data": {
      "image/png": "[encoded data removed]",
      "text/plain": [
       "<Figure size 432x288 with 1 Axes>"
      ]
     },
     "metadata": {
      "needs_background": "light"
     },
     "output_type": "display_data"
    }
   ],
   "source": [
    "print(\"Mean deploy pods by hour\")\n",
    "cpusDic = {}\n",
    "\n",
    "    \n",
    "for metrica in allmetrics:\n",
    "    if(metrica[\"coleta\"] in cpusDic):\n",
    "        cpusDic[metrica[\"coleta\"]][\"cpus\"].append(metrica[\"cpu\"])\n",
    "        cpusDic[metrica[\"coleta\"]][\"pods\"] += 1\n",
    "    else:\n",
    "        cpusDic[metrica[\"coleta\"]] = {\n",
    "            \"cpus\" : [metrica[\"cpu\"]],\n",
    "            \"pods\": 1,\n",
    "            \"hora\": metrica[\"coleta_hora\"]\n",
    "        }\n",
    "        \n",
    "cpus = []\n",
    "for i in range(24):\n",
    "    cpus.append([])\n",
    "    \n",
    "for key in cpusDic:\n",
    "    cpus[int(cpusDic[key][\"hora\"])].append(len(cpusDic[key][\"cpus\"]))\n",
    "    \n",
    "x=range(24)\n",
    "y=[]\n",
    "for i in range(24):\n",
    "    y.append(sum(cpus[i]) / len(cpus[i]))\n",
    "    \n",
    "plt.bar(x,y)\n",
    "plt.show()"
   ]
  },
  {
   "cell_type": "code",
   "execution_count": 12,
   "id": "3ad64bea-751e-43d3-bcfd-c35b7f65b800",
   "metadata": {},
   "outputs": [],
   "source": [
    "cpusDic = {}\n",
    "    \n",
    "    \n",
    "for metrica in allmetrics:\n",
    "    if(metrica[\"coleta\"] in cpusDic):\n",
    "        cpusDic[metrica[\"coleta\"]][\"cpus\"].append(metrica[\"cpu\"])\n",
    "        cpusDic[metrica[\"coleta\"]][\"pods\"] += 1\n",
    "    else:\n",
    "        cpusDic[metrica[\"coleta\"]] = {\n",
    "            \"cpus\" : [metrica[\"cpu\"]],\n",
    "            \"pods\": 1,\n",
    "            \"hora\": metrica[\"coleta_hora\"]\n",
    "        }\n",
    "        \n",
    "cpus = []\n",
    "for i in range(24):\n",
    "    cpus.append([])\n",
    "\n",
    "cpu_usages = []\n",
    "for key in cpusDic:\n",
    "    cpu_usages.append(sum(cpusDic[key][\"cpus\"]))\n",
    "maxcpu = max(cpu_usages)"
   ]
  },
  {
   "cell_type": "code",
   "execution_count": 13,
   "id": "5739e6e3-43e4-428c-9982-83419feb7a81",
   "metadata": {},
   "outputs": [
    {
     "name": "stdout",
     "output_type": "stream",
     "text": [
      "deploy Cpu usage histogram\n"
     ]
    },
    {
     "data": {
      "text/plain": [
       "Text(0, 0.5, 'Cpu Power')"
      ]
     },
     "execution_count": 13,
     "metadata": {},
     "output_type": "execute_result"
    },
    {
     "data": {
      "image/png": "[encoded data removed]",
      "text/plain": [
       "<Figure size 2160x720 with 1 Axes>"
      ]
     },
     "metadata": {
      "needs_background": "light"
     },
     "output_type": "display_data"
    }
   ],
   "source": [
    "import math\n",
    "\n",
    "print(\"deploy Cpu usage histogram\")\n",
    "\n",
    "# the histogram of the data\n",
    "import pandas as pd\n",
    "\n",
    "# Generate data on commute times.\n",
    "commutes = pd.Series(cpu_usages)\n",
    "\n",
    "commutes.plot.hist(grid=False, bins=20, rwidth=0.9,\n",
    "                   color='#607c8e', figsize=(30, 10))\n",
    "plt.title('Commute Times for 1,000 Commuters')\n",
    "plt.xlabel('Counts')\n",
    "plt.ylabel('Cpu Power')\n"
   ]
  },
  {
   "cell_type": "code",
   "execution_count": 14,
   "id": "5560b2d1-e992-46f1-ba25-3474261ee8f1",
   "metadata": {},
   "outputs": [
    {
     "name": "stdout",
     "output_type": "stream",
     "text": [
      "Deviation: \n",
      "Mean: 3824.2184110231606\n"
     ]
    },
    {
     "data": {
      "image/png": "[encoded data removed]",
      "text/plain": [
       "<Figure size 432x288 with 1 Axes>"
      ]
     },
     "metadata": {
      "needs_background": "light"
     },
     "output_type": "display_data"
    }
   ],
   "source": [
    "import statistics\n",
    "import numpy as np\n",
    "from scipy.stats import norm\n",
    "\n",
    "\n",
    "avg = sum(cpu_usages)/len(cpu_usages)\n",
    "\n",
    "print(\"Deviation: \" + str())\n",
    "print(\"Mean: \" + str(avg))\n",
    "\n",
    "x_axis = np.arange(0, maxcpu*1.1, 1)\n",
    "\n",
    "plt.plot(x_axis, norm.pdf(x_axis, avg, statistics.stdev(cpu_usages)))\n",
    "plt.show()"
   ]
  },
  {
   "cell_type": "code",
   "execution_count": 15,
   "id": "47fcd711-c1ac-4c28-b264-64e37951a8b7",
   "metadata": {},
   "outputs": [
    {
     "name": "stdout",
     "output_type": "stream",
     "text": [
      "Calculate cpu over propabolity by deploy\n",
      "cpu:6000\n",
      "prop:0.8028187317433964\n"
     ]
    }
   ],
   "source": [
    "print(\"Calculate cpu over propabolity by deploy\")\n",
    "from scipy.stats import norm\n",
    "prob = 0\n",
    "cpu = 0\n",
    "while prob < 0.8:\n",
    "    cpu += 100 \n",
    "    prob = norm(avg, statistics.stdev(cpu_usages)).cdf(cpu)\n",
    "print(\"cpu:\" + str(cpu))\n",
    "deploy_cpu_recomendation = cpu\n",
    "print(\"prop:\" + str(prob))"
   ]
  },
  {
   "cell_type": "code",
   "execution_count": 16,
   "id": "1b979b98-269b-4e16-a1be-22b9837f8d47",
   "metadata": {},
   "outputs": [
    {
     "name": "stdout",
     "output_type": "stream",
     "text": [
      "Make the speedup correction\n"
     ]
    }
   ],
   "source": [
    "print(\"Make the speedup correction\")"
   ]
  },
  {
   "cell_type": "code",
   "execution_count": 46,
   "id": "7806d339-6d2d-4ccc-a290-43aa21b5700c",
   "metadata": {},
   "outputs": [
    {
     "name": "stdout",
     "output_type": "stream",
     "text": [
      "1\n",
      "final\n",
      "[0, 500, 2000, 10000]\n",
      "[0.0, 0.9999999999999999, 3.07321274532082, 7.822395079463035]\n"
     ]
    },
    {
     "data": {
      "image/png": "[encoded data removed]",
      "text/plain": [
       "<Figure size 720x576 with 1 Axes>"
      ]
     },
     "metadata": {
      "needs_background": "light"
     },
     "output_type": "display_data"
    }
   ],
   "source": [
    "from scipy.interpolate import lagrange\n",
    "x_old = []\n",
    "y = []\n",
    "\n",
    "jump = 10\n",
    "divid = 0\n",
    "multiplier = 1\n",
    "\n",
    "initpoint = cpu_recomendation\n",
    "grow = 1\n",
    "mainpoint = initpoint*grow\n",
    "\n",
    "bigjump = 1\n",
    "\n",
    "def f(x):\n",
    "    y = []\n",
    "    for i in x:\n",
    "        point = (jump + i*grow)/(jump+mainpoint)*10\n",
    "        try:\n",
    "            value = (math.log(point*bigjump, 10) - divid)*multiplier\n",
    "        except:\n",
    "            print(i)\n",
    "            print(point)\n",
    "            print(bigjump)\n",
    "            print(jump)\n",
    "            print(mainpoint)\n",
    "            raise \"Ruim\"\n",
    "        y.append(value)\n",
    "    return y\n",
    "\n",
    "\n",
    "interk = 0\n",
    "finded = False\n",
    "maxp = 1000\n",
    "while(interk< maxp and not finded):\n",
    "    #reset loop\n",
    "    interj = 0\n",
    "    \n",
    "    grow = 1\n",
    "    mainpoint = initpoint*grow\n",
    "   \n",
    "    interk +=1\n",
    "    print(interk)\n",
    "    bigjump += 100\n",
    "\n",
    "\n",
    "    while(interj < maxp and not finded):\n",
    "        #inter\n",
    "        interj +=1\n",
    "        grow += 10\n",
    "        mainpoint = initpoint*grow\n",
    "        \n",
    "        #reset loop\n",
    "        interi = 0        \n",
    "        jump = 10\n",
    "        while(interi < maxp and not finded):\n",
    "            #inter\n",
    "            interi += 1\n",
    "            jump += 50\n",
    "            \n",
    "            #reset\n",
    "            divid = 0\n",
    "            multiplier = 1\n",
    "            \n",
    "            #define param\n",
    "            divid = f([0])[0]\n",
    "            if(f([initpoint])[0] ==0):\n",
    "                continue\n",
    "            multiplier = 1/f([initpoint])[0]\n",
    "            \n",
    "            #test\n",
    "            if(f([initpoint*2])[0] > 1.8 and f([initpoint*2])[0] < 1.85 and f([initpoint*10])[0] > 5.5 and f([initpoint*10])[0] < 5.6):\n",
    "                finded = True\n",
    "print(\"final\")\n",
    "print([0, initpoint, 2000, 10000])\n",
    "print(f([0, initpoint, 2000, 10000]))\n",
    "\n",
    "fig = plt.figure(figsize = (10,8))\n",
    "x_new = []\n",
    "for i in range(1000):\n",
    "    x_new.append(i*50)  \n",
    "plt.plot(x_new, f(x_new), 'b' )\n",
    "plt.title('Log speedup')\n",
    "plt.grid()\n",
    "plt.xlabel('x')\n",
    "plt.ylabel('y')\n",
    "plt.show()"
   ]
  },
  {
   "cell_type": "code",
   "execution_count": null,
   "id": "0fcfc08a-e4ef-4046-9223-6071826c6293",
   "metadata": {},
   "outputs": [],
   "source": []
  },
  {
   "cell_type": "code",
   "execution_count": 48,
   "id": "6b6828b5-7c48-4970-9dd5-51aad006f04d",
   "metadata": {},
   "outputs": [
    {
     "name": "stdout",
     "output_type": "stream",
     "text": [
      "Target 940\n"
     ]
    }
   ],
   "source": [
    "pods = 7\n",
    "mul_target = (deploy_cpu_recomendation/pods)/cpu_recomendation\n",
    "actual_div = 0\n",
    "cpu_target = 0\n",
    "while(actual_div < mul_target):\n",
    "    cpu_target += 5\n",
    "    actual_div = f([cpu_target])[0]/f([cpu_recomendation])[0]\n",
    "print(\"Target \" + str(cpu_target))\n",
    "\n"
   ]
  },
  {
   "cell_type": "code",
   "execution_count": null,
   "id": "758cc5a7-558e-4546-8217-254e3bfd794b",
   "metadata": {},
   "outputs": [],
   "source": []
  }
 ],
 "metadata": {
  "kernelspec": {
   "display_name": "Python 3 (ipykernel)",
   "language": "python",
   "name": "python3"
  },
  "language_info": {
   "codemirror_mode": {
    "name": "ipython",
    "version": 3
   },
   "file_extension": ".py",
   "mimetype": "text/x-python",
   "name": "python",
   "nbconvert_exporter": "python",
   "pygments_lexer": "ipython3",
   "version": "3.9.10"
  }
 },
 "nbformat": 4,
 "nbformat_minor": 5
}
