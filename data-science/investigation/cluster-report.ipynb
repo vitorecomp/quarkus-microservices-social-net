{
 "cells": [
  {
   "cell_type": "code",
   "execution_count": 1,
   "id": "ea6c915f-0b44-484a-b418-ba6feb821009",
   "metadata": {},
   "outputs": [
    {
     "name": "stdout",
     "output_type": "stream",
     "text": [
      "Collecting psycopg2-binary\n",
      "  Downloading psycopg2_binary-2.9.3-cp39-cp39-manylinux_2_17_x86_64.manylinux2014_x86_64.whl (3.0 MB)\n",
      "\u001b[2K     \u001b[90m━━━━━━━━━━━━━━━━━━━━━━━━━━━━━━━━━━━━━━━━\u001b[0m \u001b[32m3.0/3.0 MB\u001b[0m \u001b[31m4.5 MB/s\u001b[0m eta \u001b[36m0:00:00\u001b[0m00:01\u001b[0m00:01\u001b[0m\n",
      "\u001b[?25hInstalling collected packages: psycopg2-binary\n",
      "Successfully installed psycopg2-binary-2.9.3\n",
      "Conencted to postgres\n"
     ]
    }
   ],
   "source": [
    "!pip install psycopg2-binary\n",
    "import psycopg2\n",
    "conn = psycopg2.connect(\n",
    "    host=\"postgres\",\n",
    "    database=\"metrics\",\n",
    "    user=\"postgres\",\n",
    "    password=\"metrics_pass\")\n",
    "print(\"Conencted to postgres\")\n",
    "\n",
    "#getting all itens\n",
    "cur = conn.cursor()\n"
   ]
  },
  {
   "cell_type": "code",
   "execution_count": 2,
   "id": "86db73b9-b2c9-47ea-a135-725a5adfb58c",
   "metadata": {},
   "outputs": [],
   "source": [
    "#convert the nodes to dict\n",
    "cur.execute('SELECT * from public.nodes ')\n",
    "nodes = cur.fetchall()\n",
    "\n",
    "\n",
    "nodesDict = []\n",
    "dictNode = {}\n",
    "for node in nodes:\n",
    "    nodeValue = {\n",
    "        \"id\": node[0],\n",
    "        \"cluster\": node[1],\n",
    "        \"nome\": node[2],\n",
    "        \"cpu\": node[3],\n",
    "        \"memory\": node[4]\n",
    "    }\n",
    "    nodesDict.append(nodeValue)\n",
    "    #create a node dict by id\n",
    "    dictNode[nodeValue[\"id\"]] = nodeValue\n",
    "    "
   ]
  },
  {
   "cell_type": "code",
   "execution_count": 3,
   "id": "194aa0ca-19fb-4d5f-932d-14a75a8f7544",
   "metadata": {},
   "outputs": [],
   "source": [
    "#get the node metrics\n",
    "cur.execute('SELECT * from public.deployments')\n",
    "deployments = cur.fetchall()\n",
    "\n",
    "#convert the deploy to dict\n",
    "deployDict = []\n",
    "dictDeploy = {}\n",
    "for deploy in deployments:\n",
    "    deployValue = {\n",
    "        \"id\": deploy[0],\n",
    "        \"nome\": deploy[1],\n",
    "        \"namespace\": deploy[2],\n",
    "        \"cluster\": deploy[3],\n",
    "        \"replicas\": deploy[4],\n",
    "        \"minCpu\": deploy[5],\n",
    "        \"maxCpu\": deploy[6],\n",
    "        \"mimMemory\": deploy[7],\n",
    "        \"maxMemory\": deploy[8]\n",
    "    }\n",
    "    deployDict.append(deployValue)\n",
    "    #create a node dict by id\n",
    "    dictDeploy[deployValue[\"id\"]] = deployValue"
   ]
  },
  {
   "cell_type": "code",
   "execution_count": 4,
   "id": "04f3b108-c31c-45fc-91bf-a0ce4a470860",
   "metadata": {},
   "outputs": [],
   "source": [
    "#get pods\n",
    "cur.execute('SELECT * from public.pods where deployment_id is not null')\n",
    "pods = cur.fetchall()\n",
    "\n",
    "#convert pods to dict\n",
    "podsDict = []\n",
    "dictPod = {}\n",
    "for pod in pods:\n",
    "    podValue = {\n",
    "        \"id\": pod[0],\n",
    "        \"deploymentId\": pod[1],\n",
    "        \"name\": pod[2],\n",
    "        \"nodeId\": pod[3]\n",
    "    }\n",
    "    podsDict.append(podValue)\n",
    "    #create a node dict by id\n",
    "    dictPod[podValue[\"id\"]] = podValue\n"
   ]
  },
  {
   "cell_type": "code",
   "execution_count": 7,
   "id": "392c6456-4ec1-486c-ae2c-d2e1d6ffe26b",
   "metadata": {},
   "outputs": [],
   "source": [
    "#getting nodes metrics\n",
    "cur.execute('SELECT * from public.nodes_metrics')\n",
    "nodesMetrics = cur.fetchall()\n",
    "\n",
    "#convert pods metricas to dict\n",
    "\n",
    "nodesMetricsDict = []\n",
    "dictNodeMetrics = {}\n",
    "for nodeMetrics in nodesMetrics:\n",
    "    nodeMetricsValue = {\n",
    "        \"id\": nodeMetrics[0],\n",
    "        \"nodeId\": nodeMetrics[1],\n",
    "        \"coleta\": nodeMetrics[2],\n",
    "        \"cpuUsage\": nodeMetrics[3],\n",
    "        \"cpuPercentage\": nodeMetrics[4],\n",
    "        \"memoryUsage\": nodeMetrics[5],\n",
    "        \"memoryPercentage\": nodeMetrics[6]\n",
    "    }\n",
    "    nodesMetricsDict.append(nodeMetricsValue)\n",
    "    #create a node dict by id\n",
    "    dictNodeMetrics[str(nodeMetricsValue[\"id\"])+nodeMetricsValue[\"coleta\"].strftime(\"%m/%d/%Y, %H:%M\")] = nodeMetricsValue"
   ]
  },
  {
   "cell_type": "code",
   "execution_count": null,
   "id": "a7e89a9b-dff3-46ac-a8d6-b6340dbb4b01",
   "metadata": {},
   "outputs": [
    {
     "name": "stdout",
     "output_type": "stream",
     "text": [
      "(1, 1, datetime.datetime(2022, 5, 16, 0, 30, 1, 503000), 7, 333)\n"
     ]
    }
   ],
   "source": [
    "#getting pods metrics\n",
    "cur.execute('SELECT * from public.pods_metrics')\n",
    "podsMetrics = cur.fetchall()\n",
    "\n",
    "#convert pods metricas to dict\n",
    "print(podsMetrics[0])\n",
    "podsMetricsDict = []\n",
    "dictPodMetrics = {}\n",
    "for podMetrics in podsMetrics:\n",
    "    podMetricsValue = {\n",
    "        \"id\": podMetrics[0],\n",
    "        \"deploymentId\": podMetrics[1],\n",
    "        \"name\": podMetrics[2],\n",
    "        \"nodeId\": podMetrics[3]\n",
    "    }\n",
    "    podsMetricsDict.append(podMetricsValue)\n",
    "    #create a node dict by id\n",
    "    dictPodMetrics[podMetricsValue[\"id\"]] = podMetricsValue"
   ]
  },
  {
   "cell_type": "code",
   "execution_count": null,
   "id": "27179e83-db1f-4758-8cce-253babf86cae",
   "metadata": {},
   "outputs": [],
   "source": [
    "print(\"Nodes:\" + str(len(nodes)))\n",
    "print(\"Nodes Metrics:\" + str(len(nodesMetrics)))\n",
    "print(\"Deployments:\" + str(len(deployments)))\n",
    "print(\"Pods:\" + str(len(pods)))\n",
    "print(\"Pods Metrics:\" + str(len(podsMetrics)))\n",
    "\n"
   ]
  },
  {
   "cell_type": "code",
   "execution_count": null,
   "id": "e453d59d-ef8d-418f-9755-a01d7abeef64",
   "metadata": {},
   "outputs": [],
   "source": []
  }
 ],
 "metadata": {
  "kernelspec": {
   "display_name": "Python 3 (ipykernel)",
   "language": "python",
   "name": "python3"
  },
  "language_info": {
   "codemirror_mode": {
    "name": "ipython",
    "version": 3
   },
   "file_extension": ".py",
   "mimetype": "text/x-python",
   "name": "python",
   "nbconvert_exporter": "python",
   "pygments_lexer": "ipython3",
   "version": "3.9.10"
  }
 },
 "nbformat": 4,
 "nbformat_minor": 5
}
